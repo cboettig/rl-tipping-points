{
 "cells": [
  {
   "cell_type": "markdown",
   "id": "90176338",
   "metadata": {},
   "source": [
    "Ecological Tipping Points using TD3"
   ]
  },
  {
   "cell_type": "code",
   "execution_count": 1,
   "id": "7a25b298",
   "metadata": {},
   "outputs": [],
   "source": [
    "import numpy as np\n",
    "import stable_baselines3 as sb3\n",
    "import gym\n",
    "import gym_conservation\n",
    "from stable_baselines3.common.evaluation import evaluate_policy\n",
    "from stable_baselines3.common.monitor import Monitor\n",
    "ALGOS = {\"TD3\": sb3.TD3}\n"
   ]
  },
  {
   "cell_type": "code",
   "execution_count": 2,
   "id": "068fb3ca",
   "metadata": {},
   "outputs": [
    {
     "data": {
      "text/plain": [
       "'conservation-v6-TD3-team_cboettig'"
      ]
     },
     "execution_count": 2,
     "metadata": {},
     "output_type": "execute_result"
    }
   ],
   "source": [
    "algo = \"TD3\"\n",
    "RL = ALGOS[algo]\n",
    "env_id = \"conservation-v6\"\n",
    "team = \"team_cboettig\"\n",
    "agent_id = env_id + \"-\" + algo + \"-\" + team\n",
    "agent_id"
   ]
  },
  {
   "cell_type": "code",
   "execution_count": 3,
   "id": "1d9c023b",
   "metadata": {},
   "outputs": [],
   "source": [
    "seed = 24\n",
    "np.random.seed(seed)"
   ]
  },
  {
   "cell_type": "code",
   "execution_count": 4,
   "id": "9540b153",
   "metadata": {},
   "outputs": [],
   "source": [
    "env = gym.make(env_id)"
   ]
  },
  {
   "cell_type": "code",
   "execution_count": 5,
   "id": "a39ea2be",
   "metadata": {},
   "outputs": [],
   "source": [
    "noise_std = 0.4805935357322933\n",
    "OU = sb3.common.noise.OrnsteinUhlenbeckActionNoise\n",
    "action_noise = OU(mean=np.zeros(1), sigma=noise_std * np.ones(1))\n",
    "model = RL(\n",
    "    \"MlpPolicy\",\n",
    "    env,\n",
    "    verbose=0,\n",
    "    seed=42,\n",
    "    gamma=0.995,\n",
    "    learning_rate=8.315382409902049e-05,\n",
    "    batch_size=512,\n",
    "    buffer_size=10000,\n",
    "    train_freq=1000,\n",
    "    gradient_steps=1000,\n",
    "    action_noise=action_noise,\n",
    "    policy_kwargs={\"net_arch\": [64, 64]},\n",
    "    tensorboard_log=\"/var/log/tensorboard/conservation-v6\"\n",
    ")"
   ]
  },
  {
   "cell_type": "code",
   "execution_count": 6,
   "id": "2cf46ad0",
   "metadata": {},
   "outputs": [],
   "source": [
    "if not os.path.exists((agent_id+\".zip\")):\n",
    "    model.learn(total_timesteps=3000000)\n",
    "    model.save(agent_id)"
   ]
  },
  {
   "cell_type": "code",
   "execution_count": 7,
   "id": "c329c261",
   "metadata": {},
   "outputs": [
    {
     "data": {
      "text/plain": [
       "(46.5026467, 12.49218812490975)"
      ]
     },
     "execution_count": 7,
     "metadata": {},
     "output_type": "execute_result"
    }
   ],
   "source": [
    "model = RL.load(agent_id)\n",
    "\n",
    "score = evaluate_policy(model, Monitor(env), n_eval_episodes=10)\n",
    "score"
   ]
  },
  {
   "cell_type": "code",
   "execution_count": 8,
   "id": "6634c8dd",
   "metadata": {},
   "outputs": [],
   "source": [
    "sims = env.simulate(model, reps=100)\n",
    "policy = env.policyfn(model, reps=10)"
   ]
  },
  {
   "cell_type": "code",
   "execution_count": 14,
   "id": "fd9244d6",
   "metadata": {},
   "outputs": [
    {
     "data": {
      "text/html": [
       "<div>\n",
       "<style scoped>\n",
       "    .dataframe tbody tr th:only-of-type {\n",
       "        vertical-align: middle;\n",
       "    }\n",
       "\n",
       "    .dataframe tbody tr th {\n",
       "        vertical-align: top;\n",
       "    }\n",
       "\n",
       "    .dataframe thead th {\n",
       "        text-align: right;\n",
       "    }\n",
       "</style>\n",
       "<table border=\"1\" class=\"dataframe\">\n",
       "  <thead>\n",
       "    <tr style=\"text-align: right;\">\n",
       "      <th></th>\n",
       "      <th>time</th>\n",
       "      <th>state</th>\n",
       "      <th>action</th>\n",
       "      <th>reward</th>\n",
       "      <th>rep</th>\n",
       "    </tr>\n",
       "  </thead>\n",
       "  <tbody>\n",
       "    <tr>\n",
       "      <th>0</th>\n",
       "      <td>0</td>\n",
       "      <td>0.800000</td>\n",
       "      <td>0.000000</td>\n",
       "      <td>0.000000</td>\n",
       "      <td>0</td>\n",
       "    </tr>\n",
       "    <tr>\n",
       "      <th>1</th>\n",
       "      <td>1</td>\n",
       "      <td>1.286342</td>\n",
       "      <td>0.092557</td>\n",
       "      <td>0.554053</td>\n",
       "      <td>0</td>\n",
       "    </tr>\n",
       "    <tr>\n",
       "      <th>2</th>\n",
       "      <td>2</td>\n",
       "      <td>0.677377</td>\n",
       "      <td>0.193120</td>\n",
       "      <td>0.366536</td>\n",
       "      <td>0</td>\n",
       "    </tr>\n",
       "    <tr>\n",
       "      <th>3</th>\n",
       "      <td>3</td>\n",
       "      <td>0.795776</td>\n",
       "      <td>0.072956</td>\n",
       "      <td>0.437815</td>\n",
       "      <td>0</td>\n",
       "    </tr>\n",
       "    <tr>\n",
       "      <th>4</th>\n",
       "      <td>4</td>\n",
       "      <td>0.774218</td>\n",
       "      <td>0.091804</td>\n",
       "      <td>0.427943</td>\n",
       "      <td>0</td>\n",
       "    </tr>\n",
       "    <tr>\n",
       "      <th>...</th>\n",
       "      <td>...</td>\n",
       "      <td>...</td>\n",
       "      <td>...</td>\n",
       "      <td>...</td>\n",
       "      <td>...</td>\n",
       "    </tr>\n",
       "    <tr>\n",
       "      <th>2495</th>\n",
       "      <td>495</td>\n",
       "      <td>0.059780</td>\n",
       "      <td>0.003571</td>\n",
       "      <td>0.056395</td>\n",
       "      <td>4</td>\n",
       "    </tr>\n",
       "    <tr>\n",
       "      <th>2496</th>\n",
       "      <td>496</td>\n",
       "      <td>0.059607</td>\n",
       "      <td>0.004198</td>\n",
       "      <td>0.056236</td>\n",
       "      <td>4</td>\n",
       "    </tr>\n",
       "    <tr>\n",
       "      <th>2497</th>\n",
       "      <td>497</td>\n",
       "      <td>0.056210</td>\n",
       "      <td>0.004171</td>\n",
       "      <td>0.053201</td>\n",
       "      <td>4</td>\n",
       "    </tr>\n",
       "    <tr>\n",
       "      <th>2498</th>\n",
       "      <td>498</td>\n",
       "      <td>0.081292</td>\n",
       "      <td>0.003671</td>\n",
       "      <td>0.075167</td>\n",
       "      <td>4</td>\n",
       "    </tr>\n",
       "    <tr>\n",
       "      <th>2499</th>\n",
       "      <td>499</td>\n",
       "      <td>0.056402</td>\n",
       "      <td>0.009412</td>\n",
       "      <td>0.053302</td>\n",
       "      <td>4</td>\n",
       "    </tr>\n",
       "  </tbody>\n",
       "</table>\n",
       "<p>2500 rows × 5 columns</p>\n",
       "</div>"
      ],
      "text/plain": [
       "      time     state    action    reward  rep\n",
       "0        0  0.800000  0.000000  0.000000    0\n",
       "1        1  1.286342  0.092557  0.554053    0\n",
       "2        2  0.677377  0.193120  0.366536    0\n",
       "3        3  0.795776  0.072956  0.437815    0\n",
       "4        4  0.774218  0.091804  0.427943    0\n",
       "...    ...       ...       ...       ...  ...\n",
       "2495   495  0.059780  0.003571  0.056395    4\n",
       "2496   496  0.059607  0.004198  0.056236    4\n",
       "2497   497  0.056210  0.004171  0.053201    4\n",
       "2498   498  0.081292  0.003671  0.075167    4\n",
       "2499   499  0.056402  0.009412  0.053302    4\n",
       "\n",
       "[2500 rows x 5 columns]"
      ]
     },
     "execution_count": 14,
     "metadata": {},
     "output_type": "execute_result"
    }
   ],
   "source": [
    "rep0"
   ]
  },
  {
   "cell_type": "code",
   "execution_count": null,
   "id": "a70f3b00",
   "metadata": {},
   "outputs": [],
   "source": [
    "AxesSubplot(0.125,0.125;0.775x0.755)"
   ]
  },
  {
   "cell_type": "code",
   "execution_count": 15,
   "id": "5be0e26e",
   "metadata": {},
   "outputs": [
    {
     "data": {
      "image/png": "[encoded data removed]",
      "text/plain": [
       "<Figure size 432x288 with 1 Axes>"
      ]
     },
     "metadata": {},
     "output_type": "display_data"
    }
   ],
   "source": [
    "import seaborn as sns\n",
    "sns.set_theme(style=\"darkgrid\")\n",
    "rep0 = sims.query(\"rep < 5\")\n",
    "\n",
    "sns.lineplot(x=\"time\", y=\"state\", hue = \"rep\", data=rep0)\n",
    "\n",
    "df = rep0.melt(id_vars=['time','rep'],var_name='metric', value_name='values')\n",
    "#sns.lineplot( x=\"time\", y=\"values\", hue=\"metric\", data = df)\n",
    "\n"
   ]
  },
  {
   "cell_type": "markdown",
   "id": "b310dbf0",
   "metadata": {},
   "source": [
    "# Policy plot\n",
    "\n",
    "The policy plot gives a sense of the strategy employed"
   ]
  },
  {
   "cell_type": "code",
   "execution_count": 16,
   "id": "51f86ad8",
   "metadata": {},
   "outputs": [
    {
     "data": {
      "text/plain": [
       "<AxesSubplot:xlabel='state', ylabel='action'>"
      ]
     },
     "execution_count": 16,
     "metadata": {},
     "output_type": "execute_result"
    },
    {
     "data": {
      "image/png": "[encoded data removed]",
      "text/plain": [
       "<Figure size 432x288 with 1 Axes>"
      ]
     },
     "metadata": {},
     "output_type": "display_data"
    }
   ],
   "source": [
    "df = policy.query(\"rep < 5\")\n",
    "sns.lineplot(data = df, x=\"state\", y=\"action\", hue = \"rep\")"
   ]
  }
 ],
 "metadata": {
  "interpreter": {
   "hash": "8839ed2bc88c7148e461ae2c6b8d6615e6a9863753c316f97ad5f86c6cf5b52f"
  },
  "jupytext": {
   "cell_metadata_filter": "-all",
   "main_language": "python",
   "notebook_metadata_filter": "-all"
  },
  "kernelspec": {
   "display_name": "Python 3.8.10 64-bit ('rl-tipping-points-2qgxynl5': pipenv)",
   "language": "python",
   "name": "python3"
  },
  "language_info": {
   "codemirror_mode": {
    "name": "ipython",
    "version": 3
   },
   "file_extension": ".py",
   "mimetype": "text/x-python",
   "name": "python",
   "nbconvert_exporter": "python",
   "pygments_lexer": "ipython3",
   "version": "3.8.10"
  }
 },
 "nbformat": 4,
 "nbformat_minor": 5
}
